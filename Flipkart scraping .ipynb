{
 "cells": [
  {
   "cell_type": "code",
   "execution_count": 1,
   "id": "e9a7818a",
   "metadata": {},
   "outputs": [],
   "source": [
    "import os\n",
    "os.chdir('F:\\\\scarping')"
   ]
  },
  {
   "cell_type": "code",
   "execution_count": 2,
   "id": "2bff357b",
   "metadata": {},
   "outputs": [],
   "source": [
    "from selenium import webdriver\n",
    "from bs4 import BeautifulSoup \n",
    "import pandas as pd"
   ]
  },
  {
   "cell_type": "code",
   "execution_count": 3,
   "id": "c19997e2",
   "metadata": {},
   "outputs": [
    {
     "data": {
      "text/plain": [
       "<selenium.webdriver.firefox.webdriver.WebDriver (session=\"149d415b-3ea6-4bda-98ec-07ad7b852032\")>"
      ]
     },
     "execution_count": 3,
     "metadata": {},
     "output_type": "execute_result"
    }
   ],
   "source": [
    "browser = webdriver.Firefox()\n",
    "browser"
   ]
  },
  {
   "cell_type": "code",
   "execution_count": 4,
   "id": "caf95b43",
   "metadata": {},
   "outputs": [],
   "source": [
    "url = 'https://www.flipkart.com/laptops/pr?sid=6bo%2Cb5g&fm=neo%2Fmerchandising&iid=M_8b3b3f65-7ceb-4375-912c-d2bcdde87c58_1_372UD5BXDFYS_MC.34WHNYFH5V2Y&otracker1=hp_rich_navigation_PINNED_neo%2Fmerchandising_NA_NAV_EXPANDABLE_navigationCard_cc_13_L1_view-all&cid=34WHNYFH5V2Y&p%5B%5D=facets.brand%255B%255D%3DAPPLE&otracker=clp_metro_expandable_6_26.metroExpandable.METRO_EXPANDABLE_Apple_laptops-store_SKIHMOPFPDC3_wp9&fm=neo%2Fmerchandising&iid=M_b4d0e2ef-aaac-4e7e-9272-9b8be53c2dc5_26.SKIHMOPFPDC3&ppt=clp&ppn=laptops-store&ssid=j5fwd6niaz0hnchs1645514684273'"
   ]
  },
  {
   "cell_type": "code",
   "execution_count": 5,
   "id": "ee7fba15",
   "metadata": {},
   "outputs": [],
   "source": [
    "browser.get(url)"
   ]
  },
  {
   "cell_type": "code",
   "execution_count": 6,
   "id": "a7815b10",
   "metadata": {},
   "outputs": [],
   "source": [
    "html = browser.page_source"
   ]
  },
  {
   "cell_type": "code",
   "execution_count": 7,
   "id": "4023972b",
   "metadata": {},
   "outputs": [],
   "source": [
    "soup = BeautifulSoup(html,'html.parser')"
   ]
  },
  {
   "cell_type": "code",
   "execution_count": 8,
   "id": "8b2cabd0",
   "metadata": {},
   "outputs": [],
   "source": [
    "Product_Name = [i.text.strip() for i in soup.select('div._4rR01T')]"
   ]
  },
  {
   "cell_type": "code",
   "execution_count": 9,
   "id": "6367e9a3",
   "metadata": {},
   "outputs": [],
   "source": [
    "Price = [int(i.text.strip().replace('₹','').replace(',','')) for i in soup.select('div._30jeq3._1_WHN1')]"
   ]
  },
  {
   "cell_type": "code",
   "execution_count": 10,
   "id": "b100615b",
   "metadata": {},
   "outputs": [],
   "source": [
    "Rating_out_of_5 = [float(i.text) for i in soup.select('div._3LWZlK')]"
   ]
  },
  {
   "cell_type": "code",
   "execution_count": 11,
   "id": "1a7fe79e",
   "metadata": {},
   "outputs": [],
   "source": [
    "Total_Ratings = [int(i.text.strip().split('\\xa0')[0].replace(' Ratings','').replace(',','')) for i in soup.select('span._2_R_DZ')]"
   ]
  },
  {
   "cell_type": "code",
   "execution_count": 12,
   "id": "c64f4c71",
   "metadata": {},
   "outputs": [],
   "source": [
    "Total_Reviews = [int(i.text.strip().split('\\xa0')[2].replace(' Reviews','')) for i in soup.select('span._2_R_DZ')]"
   ]
  },
  {
   "cell_type": "code",
   "execution_count": 13,
   "id": "49fe7560",
   "metadata": {},
   "outputs": [],
   "source": [
    "data = list([])\n",
    "for r in soup.select('ul._1xgFaf'):\n",
    "    data.append([i.text.strip() for i in r.find_all('li')])"
   ]
  },
  {
   "cell_type": "code",
   "execution_count": 14,
   "id": "7069a667",
   "metadata": {},
   "outputs": [
    {
     "data": {
      "text/plain": [
       "list"
      ]
     },
     "execution_count": 14,
     "metadata": {},
     "output_type": "execute_result"
    }
   ],
   "source": [
    "type(data)"
   ]
  },
  {
   "cell_type": "code",
   "execution_count": 17,
   "id": "8dd2399e",
   "metadata": {},
   "outputs": [],
   "source": [
    "def Flipkart4():\n",
    "    Product_Name = [i.text.strip() for i in soup.select('div._4rR01T')]\n",
    "    Price = [int(i.text.strip().replace('₹','').replace(',','')) for i in soup.select('div._30jeq3._1_WHN1')]\n",
    "    Rating_out_of_5 = [float(i.text) for i in soup.select('div._3LWZlK')]\n",
    "    Total_Ratings = [int(i.text.strip().split('\\xa0')[0].replace(' Ratings','').replace(',','')) for i in soup.select('span._2_R_DZ')]\n",
    "    Total_Reviews = [int(i.text.strip().split('\\xa0')[2].replace(' Reviews','')) for i in soup.select('span._2_R_DZ')]\n",
    "    data = []\n",
    "    for r in soup.select('ul._1xgFaf'):\n",
    "        data.append([i.text.strip() for i in r.find_all('li')])\n",
    "    return pd.DataFrame({'Product name': Product_Name, 'Price': Price, 'Rating of 5': Rating_out_of_5, 'Total Ratings': Total_Ratings\n",
    "                        ,'Total Reviews': Total_Reviews, 'Specifications': data})"
   ]
  },
  {
   "cell_type": "code",
   "execution_count": 18,
   "id": "aab86723",
   "metadata": {},
   "outputs": [],
   "source": [
    "df = Flipkart4()"
   ]
  },
  {
   "cell_type": "code",
   "execution_count": 19,
   "id": "4bc16448",
   "metadata": {},
   "outputs": [
    {
     "data": {
      "text/html": [
       "<div>\n",
       "<style scoped>\n",
       "    .dataframe tbody tr th:only-of-type {\n",
       "        vertical-align: middle;\n",
       "    }\n",
       "\n",
       "    .dataframe tbody tr th {\n",
       "        vertical-align: top;\n",
       "    }\n",
       "\n",
       "    .dataframe thead th {\n",
       "        text-align: right;\n",
       "    }\n",
       "</style>\n",
       "<table border=\"1\" class=\"dataframe\">\n",
       "  <thead>\n",
       "    <tr style=\"text-align: right;\">\n",
       "      <th></th>\n",
       "      <th>Product name</th>\n",
       "      <th>Price</th>\n",
       "      <th>Rating of 5</th>\n",
       "      <th>Total Ratings</th>\n",
       "      <th>Total Reviews</th>\n",
       "      <th>Specifications</th>\n",
       "    </tr>\n",
       "  </thead>\n",
       "  <tbody>\n",
       "    <tr>\n",
       "      <th>0</th>\n",
       "      <td>APPLE 2020 Macbook Air M1 - (8 GB/256 GB SSD/M...</td>\n",
       "      <td>84940</td>\n",
       "      <td>4.7</td>\n",
       "      <td>6472</td>\n",
       "      <td>613</td>\n",
       "      <td>[Apple M1 Processor, 8 GB DDR4 RAM, Mac OS Ope...</td>\n",
       "    </tr>\n",
       "    <tr>\n",
       "      <th>1</th>\n",
       "      <td>APPLE 2020 Macbook Air M1 - (8 GB/256 GB SSD/M...</td>\n",
       "      <td>84940</td>\n",
       "      <td>4.7</td>\n",
       "      <td>6472</td>\n",
       "      <td>613</td>\n",
       "      <td>[Apple M1 Processor, 8 GB DDR4 RAM, Mac OS Ope...</td>\n",
       "    </tr>\n",
       "    <tr>\n",
       "      <th>2</th>\n",
       "      <td>APPLE 2020 Macbook Air M1 - (8 GB/256 GB SSD/M...</td>\n",
       "      <td>84940</td>\n",
       "      <td>4.7</td>\n",
       "      <td>6472</td>\n",
       "      <td>613</td>\n",
       "      <td>[Apple M1 Processor, 8 GB DDR4 RAM, Mac OS Ope...</td>\n",
       "    </tr>\n",
       "    <tr>\n",
       "      <th>3</th>\n",
       "      <td>APPLE 2020 Macbook Air M1 - (8 GB/512 GB SSD/M...</td>\n",
       "      <td>105940</td>\n",
       "      <td>4.7</td>\n",
       "      <td>759</td>\n",
       "      <td>91</td>\n",
       "      <td>[Apple M1 Processor, 8 GB DDR4 RAM, Mac OS Ope...</td>\n",
       "    </tr>\n",
       "    <tr>\n",
       "      <th>4</th>\n",
       "      <td>APPLE MacBook Air M1 - (16 GB/256 GB SSD/Mac O...</td>\n",
       "      <td>105940</td>\n",
       "      <td>4.5</td>\n",
       "      <td>13</td>\n",
       "      <td>0</td>\n",
       "      <td>[Apple M1 Processor, 16 GB DDR4 RAM, Mac OS Op...</td>\n",
       "    </tr>\n",
       "  </tbody>\n",
       "</table>\n",
       "</div>"
      ],
      "text/plain": [
       "                                        Product name   Price  Rating of 5  \\\n",
       "0  APPLE 2020 Macbook Air M1 - (8 GB/256 GB SSD/M...   84940          4.7   \n",
       "1  APPLE 2020 Macbook Air M1 - (8 GB/256 GB SSD/M...   84940          4.7   \n",
       "2  APPLE 2020 Macbook Air M1 - (8 GB/256 GB SSD/M...   84940          4.7   \n",
       "3  APPLE 2020 Macbook Air M1 - (8 GB/512 GB SSD/M...  105940          4.7   \n",
       "4  APPLE MacBook Air M1 - (16 GB/256 GB SSD/Mac O...  105940          4.5   \n",
       "\n",
       "   Total Ratings  Total Reviews  \\\n",
       "0           6472            613   \n",
       "1           6472            613   \n",
       "2           6472            613   \n",
       "3            759             91   \n",
       "4             13              0   \n",
       "\n",
       "                                      Specifications  \n",
       "0  [Apple M1 Processor, 8 GB DDR4 RAM, Mac OS Ope...  \n",
       "1  [Apple M1 Processor, 8 GB DDR4 RAM, Mac OS Ope...  \n",
       "2  [Apple M1 Processor, 8 GB DDR4 RAM, Mac OS Ope...  \n",
       "3  [Apple M1 Processor, 8 GB DDR4 RAM, Mac OS Ope...  \n",
       "4  [Apple M1 Processor, 16 GB DDR4 RAM, Mac OS Op...  "
      ]
     },
     "execution_count": 19,
     "metadata": {},
     "output_type": "execute_result"
    }
   ],
   "source": [
    "df.head()"
   ]
  },
  {
   "cell_type": "code",
   "execution_count": 22,
   "id": "2fd2df0d",
   "metadata": {},
   "outputs": [],
   "source": [
    "df.to_csv('Flipkart MacBooks.csv')"
   ]
  },
  {
   "cell_type": "code",
   "execution_count": 21,
   "id": "6130f293",
   "metadata": {},
   "outputs": [
    {
     "data": {
      "text/plain": [
       "<bound method NDFrame.describe of 0     6472\n",
       "1     6472\n",
       "2     6472\n",
       "3      759\n",
       "4       13\n",
       "5       33\n",
       "6       13\n",
       "7       13\n",
       "8       13\n",
       "9      625\n",
       "10      13\n",
       "11     759\n",
       "12     390\n",
       "13     625\n",
       "14     390\n",
       "15      32\n",
       "16      91\n",
       "17      31\n",
       "18      33\n",
       "19     108\n",
       "20     435\n",
       "21      33\n",
       "22      33\n",
       "23      33\n",
       "Name: Total Ratings, dtype: int64>"
      ]
     },
     "execution_count": 21,
     "metadata": {},
     "output_type": "execute_result"
    }
   ],
   "source": [
    "df['Total Ratings'].describe"
   ]
  },
  {
   "cell_type": "code",
   "execution_count": null,
   "id": "9d9ef337",
   "metadata": {},
   "outputs": [],
   "source": []
  }
 ],
 "metadata": {
  "kernelspec": {
   "display_name": "Python 3 (ipykernel)",
   "language": "python",
   "name": "python3"
  },
  "language_info": {
   "codemirror_mode": {
    "name": "ipython",
    "version": 3
   },
   "file_extension": ".py",
   "mimetype": "text/x-python",
   "name": "python",
   "nbconvert_exporter": "python",
   "pygments_lexer": "ipython3",
   "version": "3.9.7"
  }
 },
 "nbformat": 4,
 "nbformat_minor": 5
}
